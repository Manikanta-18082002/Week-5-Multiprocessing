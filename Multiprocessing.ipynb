{
 "cells": [
  {
   "cell_type": "markdown",
   "id": "b5484025",
   "metadata": {},
   "source": [
    "Q1. What is multiprocessing in python? Why is it useful?"
   ]
  },
  {
   "cell_type": "markdown",
   "id": "9369cf2b",
   "metadata": {},
   "source": [
    "It refers to the concurrent execution of multiple processes, where each process runs independently and can utilize multiple CPU cores or processors. \n",
    "\n",
    "Parallelism: Multiprocessing helps with tasks that heavily use the CPU. It splits these tasks into smaller parts and runs them simultaneously, speeding up execution.\n",
    "\n",
    "Improved Performance: Running multiple processes at once makes tasks finish faster, enhancing overall program performance.\n",
    "\n",
    "Isolation: Processes have their own memory, preventing accidental data sharing and avoiding common threading issues like race conditions and deadlocks.\n",
    "\n",
    "Fault Tolerance: If one process fails, it doesn't affect others, improving program reliability.\n",
    "\n",
    "Simplified Parallelism: Multiprocessing simplifies using multiple CPU cores compared to manual multithreading, making code more manageable.\n",
    "\n",
    "Scalability: It's adaptable for tasks distributed across multiple processors or machines, useful for large-scale parallel and distributed computing."
   ]
  },
  {
   "cell_type": "code",
   "execution_count": null,
   "id": "1dc3a886",
   "metadata": {},
   "outputs": [],
   "source": []
  },
  {
   "cell_type": "markdown",
   "id": "3d85de75",
   "metadata": {},
   "source": [
    "Q2. What are the differences between multiprocessing and multithreading?"
   ]
  },
  {
   "cell_type": "markdown",
   "id": "5bab706d",
   "metadata": {},
   "source": [
    "### Multiprocessing  \n",
    "\n",
    "* In Multiprocessing, CPUs are added for increasing computing power.\t\n",
    "* In Multiprocessing, Many processes are executed simultaneously.\t\n",
    "* Multiprocessing are classified into Symmetric and Asymmetric.\tWhile Multithreading is not classified in any categories.\n",
    "* In Multiprocessing, Process creation is a time-consuming process.\t\n",
    "* In Multiprocessing, every process owned a separate address space.\t\n",
    "\n",
    "### Multithreading\n",
    "* While In Multithreading, many threads are created of a single process for increasing computing power.\n",
    "* While in multithreading, many threads of a process are executed simultaneously.\n",
    "* While in Multithreading, process creation is according to economical.\n",
    "* While in Multithreading, a common address space is shared by all the threads.\n"
   ]
  },
  {
   "cell_type": "code",
   "execution_count": null,
   "id": "3b6877ee",
   "metadata": {},
   "outputs": [],
   "source": []
  },
  {
   "cell_type": "markdown",
   "id": "fd536215",
   "metadata": {},
   "source": [
    "Q3. Write a python code to create a process using the multiprocessing module."
   ]
  },
  {
   "cell_type": "code",
   "execution_count": 2,
   "id": "47644a9e",
   "metadata": {},
   "outputs": [
    {
     "name": "stdout",
     "output_type": "stream",
     "text": [
      "Main process is done.\n"
     ]
    }
   ],
   "source": [
    "import multiprocessing\n",
    "\n",
    "# Function to run in the new process\n",
    "def worker_function():\n",
    "    print(\"Worker process is running.\")\n",
    "\n",
    "if __name__ == \"__main__\":\n",
    "    # Create a new process\n",
    "    new_process = multiprocessing.Process(target=worker_function)\n",
    "    \n",
    "    # Start the process\n",
    "    new_process.start()\n",
    "    \n",
    "    # Wait for the process to complete (optional)\n",
    "    new_process.join()\n",
    "    \n",
    "    print(\"Main process is done.\")\n"
   ]
  },
  {
   "cell_type": "code",
   "execution_count": null,
   "id": "8d3002b0",
   "metadata": {},
   "outputs": [],
   "source": []
  },
  {
   "cell_type": "markdown",
   "id": "5f87d6eb",
   "metadata": {},
   "source": [
    "Q4. What is a multiprocessing pool in python? Why is it used?"
   ]
  },
  {
   "cell_type": "markdown",
   "id": "a749981f",
   "metadata": {},
   "source": [
    "It is often referred to as a \"process pool,\" is a feature provided by the multiprocessing module. It is used to manage and distribute a collection of worker processes, allowing you to parallelize the execution of tasks across multiple processes efficiently.\n",
    "\n",
    "Parallel Execution: Pools allow tasks to run concurrently, utilizing multiple CPU cores.\n",
    "\n",
    "Improved Performance: Speeds up CPU-bound tasks significantly.\n",
    "\n",
    "Load Balancing: Distributes tasks evenly for efficient resource use.\n",
    "\n",
    "Simplified Parallelism: Abstracts process management complexity.\n",
    "\n",
    "Reusability: Worker processes can be reused for multiple tasks.\n",
    "\n",
    "Task-Level Parallelism: Ideal for executing independent tasks in parallel."
   ]
  },
  {
   "cell_type": "code",
   "execution_count": null,
   "id": "cdccd487",
   "metadata": {},
   "outputs": [],
   "source": []
  },
  {
   "cell_type": "markdown",
   "id": "ca4576bb",
   "metadata": {},
   "source": [
    "Q5. How can we create a pool of worker processes in python using the multiprocessing module?"
   ]
  },
  {
   "cell_type": "code",
   "execution_count": null,
   "id": "43f9e7cf",
   "metadata": {},
   "outputs": [],
   "source": [
    "#print(\"use the multiprocessing.Pool class. \")\n",
    "#print()\n",
    "\n",
    "import multiprocessing\n",
    "\n",
    "# Define a function that the worker processes will execute\n",
    "def worker_function(task):\n",
    "    # Perform some work on the task\n",
    "    result = task * 2\n",
    "    return result\n",
    "\n",
    "if __name__ == \"__main__\":\n",
    "    # Create a multiprocessing pool with a specified number of processes\n",
    "    pool = multiprocessing.Pool(processes=4)  # You can adjust the number of processes as needed\n",
    "    \n",
    "    # Define a list of tasks you want to process\n",
    "    tasks = [1, 2, 3, 4, 5]\n",
    "    \n",
    "    # Use the pool to map the tasks to worker processes\n",
    "    results = pool.map(worker_function, tasks)\n",
    "    \n",
    "    # Close the pool (optional but recommended)\n",
    "    pool.close()\n",
    "    \n",
    "    # Wait for all processes to complete (optional but recommended)\n",
    "    pool.join()\n",
    "    \n",
    "    # Print the results\n",
    "    print(\"Results:\", results)\n"
   ]
  },
  {
   "cell_type": "code",
   "execution_count": null,
   "id": "a2e9bd34",
   "metadata": {},
   "outputs": [],
   "source": []
  },
  {
   "cell_type": "markdown",
   "id": "14415cf7",
   "metadata": {},
   "source": [
    "Q6. Write a python program to create 4 processes, each process should print a different number using the\n",
    "multiprocessing module in python."
   ]
  },
  {
   "cell_type": "code",
   "execution_count": null,
   "id": "aa5965fa",
   "metadata": {},
   "outputs": [],
   "source": [
    "import multiprocessing\n",
    "\n",
    "# Function to print a number\n",
    "def print_number(number):\n",
    "    print(f\"Process {number}: {number}\")\n",
    "\n",
    "if __name__ == \"__main__\":\n",
    "    # Create a list of numbers to be printed\n",
    "    numbers = [1, 2, 3, 4]\n",
    "    \n",
    "    # Create a list to store process objects\n",
    "    processes = []\n",
    "    \n",
    "    # Create and start a process for each number\n",
    "    for number in numbers:\n",
    "        process = multiprocessing.Process(target=print_number, args=(number,))\n",
    "        processes.append(process)\n",
    "        process.start()\n",
    "    \n",
    "    # Wait for all processes to complete\n",
    "    for process in processes:\n",
    "        process.join()\n",
    "    \n",
    "    print(\"All processes have finished.\")\n"
   ]
  },
  {
   "cell_type": "code",
   "execution_count": null,
   "id": "e1d32a7b",
   "metadata": {},
   "outputs": [],
   "source": []
  },
  {
   "cell_type": "code",
   "execution_count": null,
   "id": "ff84ddbc",
   "metadata": {},
   "outputs": [],
   "source": []
  }
 ],
 "metadata": {
  "kernelspec": {
   "display_name": "Python 3 (ipykernel)",
   "language": "python",
   "name": "python3"
  },
  "language_info": {
   "codemirror_mode": {
    "name": "ipython",
    "version": 3
   },
   "file_extension": ".py",
   "mimetype": "text/x-python",
   "name": "python",
   "nbconvert_exporter": "python",
   "pygments_lexer": "ipython3",
   "version": "3.11.4"
  }
 },
 "nbformat": 4,
 "nbformat_minor": 5
}
